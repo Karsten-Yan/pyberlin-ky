{
 "cells": [
  {
   "cell_type": "markdown",
   "metadata": {},
   "source": [
    "https://github.com/Karsten-Yan/pyberlin-ky"
   ]
  },
  {
   "cell_type": "markdown",
   "metadata": {},
   "source": [
    "# Setup"
   ]
  },
  {
   "cell_type": "code",
   "execution_count": 1,
   "metadata": {
    "ExecuteTime": {
     "end_time": "2020-07-29T13:04:03.436453Z",
     "start_time": "2020-07-29T13:04:02.095150Z"
    },
    "code_folding": []
   },
   "outputs": [],
   "source": [
    "#packages for data handling and plotting\n",
    "\n",
    "# to install scikitplot with anaconda run:\n",
    "# conda install -c conda-forge scikit-plot\n",
    "\n",
    "import pandas as pd\n",
    "import numpy as np\n",
    "import seaborn as sns\n",
    "import matplotlib.pyplot as plt\n",
    "import matplotlib as mpl\n",
    "import matplotlib.patches as patches\n",
    "import matplotlib.image as mpimg\n",
    "from IPython.display import display\n",
    "import scikitplot as skplt\n",
    "\n",
    "sns.set(style=\"white\", palette=\"pastel\",font_scale=1.5, rc={\"lines.linewidth\": 2.5,'figure.figsize':(11.7,8.27)})\n",
    "pd.options.display.max_columns = None"
   ]
  },
  {
   "cell_type": "code",
   "execution_count": 2,
   "metadata": {
    "ExecuteTime": {
     "end_time": "2020-07-29T13:04:03.442455Z",
     "start_time": "2020-07-29T13:04:03.437453Z"
    },
    "code_folding": [
     0
    ]
   },
   "outputs": [],
   "source": [
    "# some general parameters for plots\n",
    "mpl.rcParams['axes.linewidth'] = 2.5\n",
    "mpl.rcParams['axes.edgecolor'] = \"grey\"\n",
    "mpl.rcParams['figure.edgecolor'] = \"grey\"\n",
    "mpl.rcParams['lines.linewidth'] = 2.5\n",
    "mpl.rcParams['legend.edgecolor'] = \"grey\"\n",
    "mpl.rcParams['legend.shadow'] = False\n",
    "mpl.rcParams[\"legend.framealpha\"] = 1\n",
    "mpl.rcParams['font.weight'] = \"bold\"\n",
    "mpl.rcParams['axes.labelweight'] = \"bold\"\n",
    "mpl.rcParams['axes.titleweight'] = \"bold\""
   ]
  },
  {
   "cell_type": "code",
   "execution_count": 3,
   "metadata": {
    "ExecuteTime": {
     "end_time": "2020-07-29T13:04:03.523473Z",
     "start_time": "2020-07-29T13:04:03.444456Z"
    },
    "code_folding": []
   },
   "outputs": [],
   "source": [
    "#modelling packages from sklearn\n",
    "\n",
    "# to install xgboost with anaconda run:\n",
    "# conda install -c anaconda py-xgboost\n",
    "\n",
    "from sklearn.model_selection import cross_validate\n",
    "\n",
    "from sklearn.ensemble import AdaBoostClassifier, RandomForestClassifier\n",
    "from sklearn.linear_model import LogisticRegression\n",
    "from sklearn.neighbors import KNeighborsClassifier\n",
    "from sklearn.naive_bayes import GaussianNB\n",
    "from sklearn.neural_network import MLPClassifier\n",
    "from sklearn.svm import SVC\n",
    "from xgboost import XGBClassifier\n",
    "\n",
    "from sklearn.metrics import f1_score"
   ]
  },
  {
   "cell_type": "markdown",
   "metadata": {},
   "source": [
    "# Load Data"
   ]
  },
  {
   "cell_type": "code",
   "execution_count": 4,
   "metadata": {
    "ExecuteTime": {
     "end_time": "2020-07-29T13:04:03.561482Z",
     "start_time": "2020-07-29T13:04:03.524473Z"
    }
   },
   "outputs": [],
   "source": [
    "# load in the dataframe with pandas, change some data types for correct handling later\n",
    "\n",
    "df_combined = pd.read_csv(\"data/exported/df_pyberlin_demo.csv\", index_col = 0)\n",
    "df_combined = df_combined.astype({\"base_1\":\"category\",\"base_2\":\"category\",\"base_3\":\"category\",\\\n",
    "                                          \"base_4\":\"category\",\"base_5\":\"category\",\"modified_status\":\"category\"})\n",
    "df_combined = df_combined.astype({\"ref_number\":\"object\"})"
   ]
  },
  {
   "cell_type": "code",
   "execution_count": 5,
   "metadata": {
    "ExecuteTime": {
     "end_time": "2020-07-29T13:04:03.587489Z",
     "start_time": "2020-07-29T13:04:03.562482Z"
    }
   },
   "outputs": [
    {
     "data": {
      "text/html": [
       "<div>\n",
       "<style scoped>\n",
       "    .dataframe tbody tr th:only-of-type {\n",
       "        vertical-align: middle;\n",
       "    }\n",
       "\n",
       "    .dataframe tbody tr th {\n",
       "        vertical-align: top;\n",
       "    }\n",
       "\n",
       "    .dataframe thead th {\n",
       "        text-align: right;\n",
       "    }\n",
       "</style>\n",
       "<table border=\"1\" class=\"dataframe\">\n",
       "  <thead>\n",
       "    <tr style=\"text-align: right;\">\n",
       "      <th></th>\n",
       "      <th>modified_status</th>\n",
       "      <th>ref_number</th>\n",
       "      <th>dwell_time_median</th>\n",
       "      <th>dwell_time_min</th>\n",
       "      <th>dwell_time_max</th>\n",
       "      <th>dwell_time_rolling_median</th>\n",
       "      <th>dwell_time_rolling_min</th>\n",
       "      <th>dwell_time_diff_to_median</th>\n",
       "      <th>median_value_median</th>\n",
       "      <th>median_value_min</th>\n",
       "      <th>median_value_max</th>\n",
       "      <th>median_value_rolling_median</th>\n",
       "      <th>median_value_rolling_min</th>\n",
       "      <th>median_value_diff_to_median</th>\n",
       "      <th>base_1</th>\n",
       "      <th>base_2</th>\n",
       "      <th>base_3</th>\n",
       "      <th>base_4</th>\n",
       "      <th>base_5</th>\n",
       "      <th>file_name</th>\n",
       "      <th>file_type</th>\n",
       "    </tr>\n",
       "  </thead>\n",
       "  <tbody>\n",
       "    <tr>\n",
       "      <th>0</th>\n",
       "      <td>1.0</td>\n",
       "      <td>ref_0000</td>\n",
       "      <td>0.049906</td>\n",
       "      <td>0.005113</td>\n",
       "      <td>0.094814</td>\n",
       "      <td>0.023089</td>\n",
       "      <td>0.022861</td>\n",
       "      <td>0.039380</td>\n",
       "      <td>102.017702</td>\n",
       "      <td>87.318945</td>\n",
       "      <td>108.891074</td>\n",
       "      <td>102.017702</td>\n",
       "      <td>100.448388</td>\n",
       "      <td>7.926536</td>\n",
       "      <td>A</td>\n",
       "      <td>A</td>\n",
       "      <td>T</td>\n",
       "      <td>G</td>\n",
       "      <td>G</td>\n",
       "      <td>modified_rep_1.tsv</td>\n",
       "      <td>modified</td>\n",
       "    </tr>\n",
       "    <tr>\n",
       "      <th>1</th>\n",
       "      <td>0.0</td>\n",
       "      <td>ref_0000</td>\n",
       "      <td>0.023089</td>\n",
       "      <td>0.008614</td>\n",
       "      <td>0.063580</td>\n",
       "      <td>0.022975</td>\n",
       "      <td>0.006346</td>\n",
       "      <td>0.012563</td>\n",
       "      <td>100.448388</td>\n",
       "      <td>80.185500</td>\n",
       "      <td>119.615164</td>\n",
       "      <td>108.564081</td>\n",
       "      <td>100.448388</td>\n",
       "      <td>6.357222</td>\n",
       "      <td>A</td>\n",
       "      <td>T</td>\n",
       "      <td>G</td>\n",
       "      <td>G</td>\n",
       "      <td>G</td>\n",
       "      <td>modified_rep_1.tsv</td>\n",
       "      <td>modified</td>\n",
       "    </tr>\n",
       "    <tr>\n",
       "      <th>2</th>\n",
       "      <td>0.0</td>\n",
       "      <td>ref_0000</td>\n",
       "      <td>0.022861</td>\n",
       "      <td>0.002792</td>\n",
       "      <td>0.089663</td>\n",
       "      <td>0.022861</td>\n",
       "      <td>0.006346</td>\n",
       "      <td>0.012336</td>\n",
       "      <td>118.765173</td>\n",
       "      <td>102.514759</td>\n",
       "      <td>126.849837</td>\n",
       "      <td>112.652922</td>\n",
       "      <td>100.448388</td>\n",
       "      <td>24.674007</td>\n",
       "      <td>T</td>\n",
       "      <td>G</td>\n",
       "      <td>G</td>\n",
       "      <td>G</td>\n",
       "      <td>C</td>\n",
       "      <td>modified_rep_1.tsv</td>\n",
       "      <td>modified</td>\n",
       "    </tr>\n",
       "    <tr>\n",
       "      <th>3</th>\n",
       "      <td>0.0</td>\n",
       "      <td>ref_0000</td>\n",
       "      <td>0.006346</td>\n",
       "      <td>0.001938</td>\n",
       "      <td>0.049635</td>\n",
       "      <td>0.014807</td>\n",
       "      <td>0.006346</td>\n",
       "      <td>-0.004180</td>\n",
       "      <td>115.110460</td>\n",
       "      <td>97.295992</td>\n",
       "      <td>131.978892</td>\n",
       "      <td>112.652922</td>\n",
       "      <td>76.719371</td>\n",
       "      <td>21.019294</td>\n",
       "      <td>G</td>\n",
       "      <td>G</td>\n",
       "      <td>G</td>\n",
       "      <td>C</td>\n",
       "      <td>T</td>\n",
       "      <td>modified_rep_1.tsv</td>\n",
       "      <td>modified</td>\n",
       "    </tr>\n",
       "    <tr>\n",
       "      <th>4</th>\n",
       "      <td>0.0</td>\n",
       "      <td>ref_0000</td>\n",
       "      <td>0.014807</td>\n",
       "      <td>0.002748</td>\n",
       "      <td>0.075328</td>\n",
       "      <td>0.008563</td>\n",
       "      <td>0.006346</td>\n",
       "      <td>0.004281</td>\n",
       "      <td>112.652922</td>\n",
       "      <td>102.709198</td>\n",
       "      <td>120.275825</td>\n",
       "      <td>112.652922</td>\n",
       "      <td>76.719371</td>\n",
       "      <td>18.561756</td>\n",
       "      <td>G</td>\n",
       "      <td>G</td>\n",
       "      <td>C</td>\n",
       "      <td>T</td>\n",
       "      <td>T</td>\n",
       "      <td>modified_rep_1.tsv</td>\n",
       "      <td>modified</td>\n",
       "    </tr>\n",
       "  </tbody>\n",
       "</table>\n",
       "</div>"
      ],
      "text/plain": [
       "  modified_status ref_number  dwell_time_median  dwell_time_min  \\\n",
       "0             1.0   ref_0000           0.049906        0.005113   \n",
       "1             0.0   ref_0000           0.023089        0.008614   \n",
       "2             0.0   ref_0000           0.022861        0.002792   \n",
       "3             0.0   ref_0000           0.006346        0.001938   \n",
       "4             0.0   ref_0000           0.014807        0.002748   \n",
       "\n",
       "   dwell_time_max  dwell_time_rolling_median  dwell_time_rolling_min  \\\n",
       "0        0.094814                   0.023089                0.022861   \n",
       "1        0.063580                   0.022975                0.006346   \n",
       "2        0.089663                   0.022861                0.006346   \n",
       "3        0.049635                   0.014807                0.006346   \n",
       "4        0.075328                   0.008563                0.006346   \n",
       "\n",
       "   dwell_time_diff_to_median  median_value_median  median_value_min  \\\n",
       "0                   0.039380           102.017702         87.318945   \n",
       "1                   0.012563           100.448388         80.185500   \n",
       "2                   0.012336           118.765173        102.514759   \n",
       "3                  -0.004180           115.110460         97.295992   \n",
       "4                   0.004281           112.652922        102.709198   \n",
       "\n",
       "   median_value_max  median_value_rolling_median  median_value_rolling_min  \\\n",
       "0        108.891074                   102.017702                100.448388   \n",
       "1        119.615164                   108.564081                100.448388   \n",
       "2        126.849837                   112.652922                100.448388   \n",
       "3        131.978892                   112.652922                 76.719371   \n",
       "4        120.275825                   112.652922                 76.719371   \n",
       "\n",
       "   median_value_diff_to_median base_1 base_2 base_3 base_4 base_5  \\\n",
       "0                     7.926536      A      A      T      G      G   \n",
       "1                     6.357222      A      T      G      G      G   \n",
       "2                    24.674007      T      G      G      G      C   \n",
       "3                    21.019294      G      G      G      C      T   \n",
       "4                    18.561756      G      G      C      T      T   \n",
       "\n",
       "            file_name file_type  \n",
       "0  modified_rep_1.tsv  modified  \n",
       "1  modified_rep_1.tsv  modified  \n",
       "2  modified_rep_1.tsv  modified  \n",
       "3  modified_rep_1.tsv  modified  \n",
       "4  modified_rep_1.tsv  modified  "
      ]
     },
     "execution_count": 5,
     "metadata": {},
     "output_type": "execute_result"
    }
   ],
   "source": [
    "df_combined.head()"
   ]
  },
  {
   "cell_type": "markdown",
   "metadata": {},
   "source": [
    "# Exploratory Data Analysis"
   ]
  },
  {
   "cell_type": "code",
   "execution_count": 6,
   "metadata": {
    "ExecuteTime": {
     "end_time": "2020-07-29T13:04:03.740522Z",
     "start_time": "2020-07-29T13:04:03.588488Z"
    }
   },
   "outputs": [
    {
     "data": {
      "image/png": "[encoded data removed]",
      "text/plain": [
       "<Figure size 842.4x595.44 with 1 Axes>"
      ]
     },
     "metadata": {},
     "output_type": "display_data"
    }
   ],
   "source": [
    "# simple bargraph comparing normalize target value distribution\n",
    "\n",
    "ax = df_combined.modified_status.value_counts(normalize=True).plot.bar(edgecolor = \"grey\", linewidth = 2.5)\n",
    "ax.set(ylabel = \"Percent\", xticklabels=[\"unmodified\", \"modified\"])\n",
    "plt.xticks(rotation=\"horizontal\")\n",
    "plt.title(\"target value distribution\");"
   ]
  },
  {
   "cell_type": "markdown",
   "metadata": {},
   "source": [
    "## Interactive Plot"
   ]
  },
  {
   "cell_type": "code",
   "execution_count": 7,
   "metadata": {
    "ExecuteTime": {
     "end_time": "2020-07-29T13:04:03.743523Z",
     "start_time": "2020-07-29T13:04:03.741522Z"
    }
   },
   "outputs": [],
   "source": [
    "from ipywidgets import interact, interactive, fixed, interact_manual\n",
    "import ipywidgets as widgets"
   ]
  },
  {
   "cell_type": "code",
   "execution_count": 8,
   "metadata": {
    "ExecuteTime": {
     "end_time": "2020-07-29T13:04:03.749525Z",
     "start_time": "2020-07-29T13:04:03.745523Z"
    }
   },
   "outputs": [],
   "source": [
    "df_dnaviewer = df_combined[[\"ref_number\",\"file_name\",\"base_3\",\"dwell_time_median\",\"dwell_time_rolling_min\",\n",
    "                            \"dwell_time_diff_to_median\",\"modified_status\",\"file_type\"]]"
   ]
  },
  {
   "cell_type": "code",
   "execution_count": 9,
   "metadata": {
    "ExecuteTime": {
     "end_time": "2020-07-29T13:04:03.756526Z",
     "start_time": "2020-07-29T13:04:03.751524Z"
    },
    "code_folding": [
     0
    ]
   },
   "outputs": [],
   "source": [
    "def getIndexes(dfObj, value):\n",
    "    # helper functions to get indices with specific values from a dataframe\n",
    "    listOfPos = list()\n",
    "    # Get bool dataframe with True at positions where the given value exists\n",
    "    result = dfObj.isin([value])\n",
    "    # Get list of columns that contains the value\n",
    "    seriesObj = result.any()\n",
    "    if seriesObj.any():\n",
    "        columnNames = list(seriesObj[seriesObj == True].index)\n",
    "        # Iterate over list of columns and fetch the rows indexes where value exists\n",
    "        for col in columnNames:\n",
    "            rows = list(result[col][result[col] == True].index)\n",
    "        for row in rows:\n",
    "            listOfPos.append((row))\n",
    "        # Return a list of tuples indicating the positions of value in the dataframe\n",
    "    else:\n",
    "        listOfPos = False\n",
    "    return listOfPos"
   ]
  },
  {
   "cell_type": "code",
   "execution_count": 10,
   "metadata": {
    "ExecuteTime": {
     "end_time": "2020-07-29T13:04:03.789533Z",
     "start_time": "2020-07-29T13:04:03.757526Z"
    },
    "code_folding": [
     0
    ]
   },
   "outputs": [],
   "source": [
    "def plot_dna(i, col, axs, ref, startpos, stoppos, df_temp):\n",
    "    #function for plotting one side of the plot\n",
    "    start,stop = 0,15\n",
    "    font =  {'size': 24, \n",
    "             'weight':'bold'}\n",
    "    \n",
    "    \n",
    "    sequence = \"\".join(df_temp.base_3.values)\n",
    "    \n",
    "    modified_positions = getIndexes(df_temp[[\"base_3\",\"modified_status\"]], 1.0)\n",
    "    \n",
    "    if modified_positions:\n",
    "            for elm in modified_positions:\n",
    "\n",
    "                axs[0,col].axvspan(elm-0.5, elm+0.5, color='red', alpha=0.2,zorder=0)\n",
    "                axs[1,col].axvspan(elm-0.5, elm+0.5, color='red', alpha=0.2,zorder=1)\n",
    "                axs[2,col].axvspan(elm-0.5, elm+0.5, color='red', alpha=0.2,zorder=1)\n",
    "                axs[3,col].axvspan(elm-0.5, elm+0.5, color='red', alpha=0.2,zorder=1)\n",
    "\n",
    "\n",
    "            \n",
    "    box1 = patches.Rectangle (xy=(4.5,1), width = 5, height = 2, edgecolor=\"grey\",\n",
    "                             linewidth=2.5, facecolor = \"#FFB482\")\n",
    "    box2 = patches.FancyBboxPatch (xy=(6,5), width = 2, height = 2, edgecolor=\"grey\",\n",
    "                             linewidth=2.5, facecolor = \"#A1C9F4\", boxstyle = \"Round4\")\n",
    "    \n",
    "    axs[0,col].add_patch(box1)\n",
    "    axs[0,col].add_patch(box2)\n",
    "    axs[0,col].set_ylim(0,10)\n",
    "    axs[0,col].text(7,2,s=\"reading frame\", ha=\"center\", va=\"center\")\n",
    "    axs[0,col].text(7,6,s=\"center\", ha=\"center\", va=\"center\")\n",
    "    axs[0,col].text(-0.3,2, va=\"center\", ha=\"center\", s=\"3'\")\n",
    "    axs[0,col].text(14.3,2, va=\"center\", ha=\"center\", s=\"5'\")\n",
    "    temp_title = df_temp.file_type[0]\n",
    "    axs[0,col].text(7,9,s=temp_title, ha=\"center\", va=\"center\")\n",
    "    axs[0,col].plot(np.arange(start,stop),np.full(stop,2), color=\"grey\", zorder=0)\n",
    "    axs[0,col].plot([4.5,6.5],[3,5],color = \"grey\", zorder=0)\n",
    "    axs[0,col].plot([7.5,9.5],[5,3], color=\"grey\", zorder=0)\n",
    "    axs[0,col].axis(\"off\")\n",
    "    axs[0,col].set_yticklabels([\"\"])\n",
    "    \n",
    "    bl = \"#A1C9F4\"\n",
    "    gr = \"#8DE5A1\"\n",
    "    og = \"#FFB482\"\n",
    "    \n",
    "    bar_colors = [gr,gr,gr,gr,gr,og,og,bl,og,og,gr,gr,gr,gr,gr,]\n",
    "    \n",
    "    axs[1,col].bar(x=range(0,stop-start),height=df_temp.dwell_time_diff_to_median, linewidth=2.5,\n",
    "            edgecolor=\"grey\",zorder=2, color = bar_colors)\n",
    "    axs[1,col].set_ylabel(\"Dwell Time\\nDiff to Median\")\n",
    "    axs[1,col].set_ylim(0,0.1)\n",
    "    axs[1,col].set_yticklabels([\"\"])\n",
    "    \n",
    "    axs[2,col].bar(x=range(0,stop-start),height=df_temp.dwell_time_rolling_min, linewidth=2.5,\n",
    "            edgecolor=\"grey\",zorder=2, color = bar_colors)\n",
    "    axs[2,col].set_ylabel(\"Dwell Time\\nRolling Minimum\")\n",
    "    axs[2,col].set_ylim(0,0.03)\n",
    "    axs[2,col].set_yticklabels([\"\"])\n",
    "    \n",
    "    axs[3,col].bar(x=range(0,stop-start),height=df_temp.dwell_time_median, linewidth=2.5, \n",
    "            edgecolor=\"grey\",zorder=2, color = bar_colors)\n",
    "    axs[3,col].set_ylabel(\"Dwell Time\\nMedian\")\n",
    "    axs[3,col].set_ylim(0,0.1)\n",
    "    axs[3,col].set_yticklabels([\"\"])\n",
    "    axs[3,col].set_xticks(np.arange(start,stop))\n",
    "    axs[3,col].set_xticklabels(list(sequence), fontdict=font )\n",
    "    axs[3,col].set_xlim(-0.5,14.5)\n",
    "    \n",
    "    if df_temp.base_3.iloc[7] == \"A\":\n",
    "        img=mpimg.imread('base_img/adenosin.png')\n",
    "    elif df_temp.base_3.iloc[7] == \"C\":\n",
    "        img=mpimg.imread('base_img/cytidin.png')\n",
    "    elif df_temp.base_3.iloc[7] == \"G\":\n",
    "        img=mpimg.imread('base_img/guanosin.png')\n",
    "    elif df_temp.base_3.iloc[7] == \"T\":\n",
    "        img=mpimg.imread('base_img/uridin.png')\n",
    "    axs[1,2].imshow(img)\n",
    "    axs[1,2].set_xlim(-100,1200)\n",
    "    axs[1,2].set_ylim(1100,-100)\n",
    "    axs[1,2].set_yticklabels([\"\"])\n",
    "    axs[1,2].set_xticklabels([\"\"])\n",
    "    axs[1,2].axis(\"off\")\n",
    "    \n",
    "    if modified_positions:\n",
    "            for elm in modified_positions:\n",
    "                if elm == 7:\n",
    "                    img2=mpimg.imread('base_img/1m7.png')\n",
    "                    axs[2,2].imshow(img2)\n",
    "    axs[2,2].set_xlim(-100,1400)\n",
    "    axs[2,2].set_ylim(1100,-100)\n",
    "    axs[2,2].set_yticklabels([\"\"])\n",
    "    axs[2,2].set_xticklabels([\"\"])\n",
    "    axs[2,2].axis(\"off\")"
   ]
  },
  {
   "cell_type": "code",
   "execution_count": 11,
   "metadata": {
    "ExecuteTime": {
     "end_time": "2020-07-29T13:04:03.802537Z",
     "start_time": "2020-07-29T13:04:03.790533Z"
    },
    "code_folding": [
     0
    ]
   },
   "outputs": [],
   "source": [
    "def sequencing_show(i,ref):\n",
    "    \n",
    "    # function for putting both sides together and adding the graphical base representations\n",
    "    \n",
    "    start_i = i\n",
    "    stop_i =i+15\n",
    "    \n",
    "    df_temp_mod = df_dnaviewer[(df_dnaviewer[\"file_name\"]==\"modified_rep_1.tsv\") &\n",
    "                (df_dnaviewer[\"ref_number\"]==\"ref_000\"+ref)][start_i:stop_i].reset_index()\n",
    "    df_temp_unmod = df_dnaviewer[(df_dnaviewer[\"file_name\"]==\"unmodified_rep_1.tsv\") &\n",
    "                (df_dnaviewer[\"ref_number\"]==\"ref_000\"+ref)][start_i:stop_i].reset_index()\n",
    "    \n",
    "    fig, axs = plt.subplots(\n",
    "        4, 3,   figsize=(20, 10), \n",
    "        sharex='col', \n",
    "        gridspec_kw={\"width_ratios\": [2,2,1]}\n",
    "    )\n",
    "    \n",
    "   \n",
    "    plot_dna(i,0,axs,ref, start_i, stop_i, df_temp_mod)\n",
    "    plot_dna(i,1,axs,ref, start_i, stop_i, df_temp_unmod)\n",
    "    \n",
    "    \n",
    "    #plt.figure(edgecolor = \"grey\")\n",
    "    plt.suptitle(\"DNA-Nanoporesequencing readout\",weight=\"bold\")\n",
    "    #plt.tight_layout()\n",
    "    plt.subplots_adjust(top=0.95,hspace = 0)\n",
    "    axs[1,1].set_ylabel(\"\")\n",
    "    axs[2,1].set_ylabel(\"\")\n",
    "    axs[3,1].set_ylabel(\"\")\n",
    "    \n",
    "    axs[0,2].set_visible(False)\n",
    "    axs[3,2].bar(x = (400,900), \n",
    "                 height= (df_temp_mod.dwell_time_median.iloc[7],df_temp_unmod.dwell_time_median.iloc[7]),\n",
    "                 edgecolor=\"grey\",\n",
    "                 linewidth=2.5,\n",
    "                 width=400)\n",
    "    #axs[3,2].set_xlim(-0.5,1.5)\n",
    "    axs[3,2].set_xticks([400,900])\n",
    "    axs[3,2].set_xticklabels([\"Mod\",\"Unmod\"] )\n",
    "    axs[3,2].set_ylim(0,0.1)\n",
    "    axs[3,2].set_yticklabels([\"\"])\n",
    "    axs[3,2].set_ylabel(\"Dwell Time\\nMedian\")"
   ]
  },
  {
   "cell_type": "code",
   "execution_count": 12,
   "metadata": {
    "ExecuteTime": {
     "end_time": "2020-07-29T13:04:05.134838Z",
     "start_time": "2020-07-29T13:04:03.803536Z"
    },
    "code_folding": []
   },
   "outputs": [
    {
     "data": {
      "application/vnd.jupyter.widget-view+json": {
       "model_id": "f82b4af654b247a09bba84873613bf99",
       "version_major": 2,
       "version_minor": 0
      },
      "text/plain": [
       "HBox(children=(Play(value=0, description='Press play', interval=2500, max=181), IntText(value=0)))"
      ]
     },
     "metadata": {},
     "output_type": "display_data"
    },
    {
     "data": {
      "application/vnd.jupyter.widget-view+json": {
       "model_id": "3c89a85736624735918834e86a26f1e2",
       "version_major": 2,
       "version_minor": 0
      },
      "text/plain": [
       "ToggleButtons(options=('0', '1', '2', '3', '4'), value='0')"
      ]
     },
     "metadata": {},
     "output_type": "display_data"
    },
    {
     "data": {
      "application/vnd.jupyter.widget-view+json": {
       "model_id": "3c6603a2ccc1490580f4555baaac2c17",
       "version_major": 2,
       "version_minor": 0
      },
      "text/plain": [
       "Output()"
      ]
     },
     "metadata": {},
     "output_type": "display_data"
    }
   ],
   "source": [
    "# preparing interactive widgets and graphical output\n",
    "\n",
    "play = widgets.Play(\n",
    "    value=0,\n",
    "    min=0,\n",
    "    max=181,\n",
    "    step=1,\n",
    "    interval=2500,\n",
    "    description=\"Press play\",\n",
    "    disabled=False)\n",
    "text = widgets.IntText()\n",
    "toggle = widgets.ToggleButtons(options=[\"0\",\"1\",\"2\",\"3\",\"4\"])\n",
    "\n",
    "playbox = widgets.HBox([play, text])\n",
    "\n",
    "widgets.jslink((play, 'value'), (text, 'value'))\n",
    "    \n",
    "out = widgets.interactive_output(sequencing_show, {\"i\":play, \"ref\":toggle})\n",
    "display(playbox,toggle,out)\n"
   ]
  },
  {
   "cell_type": "markdown",
   "metadata": {},
   "source": [
    "# Creating a Classifier"
   ]
  },
  {
   "cell_type": "markdown",
   "metadata": {},
   "source": [
    "![conf_matrix](conf_matrix2.png)"
   ]
  },
  {
   "cell_type": "markdown",
   "metadata": {},
   "source": [
    "## Manual Train Test Split"
   ]
  },
  {
   "cell_type": "code",
   "execution_count": 13,
   "metadata": {
    "ExecuteTime": {
     "end_time": "2020-07-29T13:04:05.139839Z",
     "start_time": "2020-07-29T13:04:05.135838Z"
    }
   },
   "outputs": [],
   "source": [
    "# manual train test split according to ref_num to preserve sequence sequence identity\n",
    "final_ref = [\"ref_0000\",\"ref_0001\",\"ref_0002\",\"ref_0003\"]\n",
    "val_ref = [\"ref_0004\"]"
   ]
  },
  {
   "cell_type": "code",
   "execution_count": 14,
   "metadata": {
    "ExecuteTime": {
     "end_time": "2020-07-29T13:04:05.144841Z",
     "start_time": "2020-07-29T13:04:05.141841Z"
    }
   },
   "outputs": [],
   "source": [
    "seed = 7"
   ]
  },
  {
   "cell_type": "code",
   "execution_count": 15,
   "metadata": {
    "ExecuteTime": {
     "end_time": "2020-07-29T13:04:05.152841Z",
     "start_time": "2020-07-29T13:04:05.146841Z"
    }
   },
   "outputs": [],
   "source": [
    "numeric_features_combined = list(df_combined.columns[df_combined.dtypes ==  \"float\"])"
   ]
  },
  {
   "cell_type": "code",
   "execution_count": 16,
   "metadata": {
    "ExecuteTime": {
     "end_time": "2020-07-29T13:04:05.158843Z",
     "start_time": "2020-07-29T13:04:05.154843Z"
    }
   },
   "outputs": [],
   "source": [
    "# preparing feature list with target value for subsetting dataframe into x and y frames\n",
    "feature_list = numeric_features_combined\n",
    "feature_list.append(\"modified_status\")"
   ]
  },
  {
   "cell_type": "code",
   "execution_count": 17,
   "metadata": {
    "ExecuteTime": {
     "end_time": "2020-07-29T13:04:05.177847Z",
     "start_time": "2020-07-29T13:04:05.161844Z"
    }
   },
   "outputs": [],
   "source": [
    "X_finaltest_combined = df_combined[df_combined[\"ref_number\"].isin(final_ref)][feature_list]\n",
    "y_finaltest_combined = X_finaltest_combined.pop(\"modified_status\")\n",
    "X_val_combined = df_combined[df_combined[\"ref_number\"].isin(val_ref)][feature_list]\n",
    "y_val_combined = X_val_combined.pop(\"modified_status\")"
   ]
  },
  {
   "cell_type": "code",
   "execution_count": 18,
   "metadata": {
    "ExecuteTime": {
     "end_time": "2020-07-29T13:04:05.189850Z",
     "start_time": "2020-07-29T13:04:05.178847Z"
    }
   },
   "outputs": [],
   "source": [
    "# custom cross validation strategy, to cross validate according to specific dna strands\n",
    "labels = df_combined[df_combined[\"ref_number\"].isin(final_ref)].ref_number.values\n",
    "cv = [(np.where(labels != label)[0], np.where(labels == label)[0]) for label in np.unique(labels)]"
   ]
  },
  {
   "cell_type": "markdown",
   "metadata": {
    "ExecuteTime": {
     "end_time": "2020-07-20T12:09:41.900041Z",
     "start_time": "2020-07-20T12:09:41.898041Z"
    }
   },
   "source": [
    "## ML models"
   ]
  },
  {
   "cell_type": "markdown",
   "metadata": {},
   "source": [
    "### Baseline"
   ]
  },
  {
   "cell_type": "code",
   "execution_count": 19,
   "metadata": {
    "ExecuteTime": {
     "end_time": "2020-07-29T13:04:05.194851Z",
     "start_time": "2020-07-29T13:04:05.190851Z"
    }
   },
   "outputs": [],
   "source": [
    "# baseline model with all zeros, as data is rather imbalanced\n",
    "y_pred = np.zeros(len(X_val_combined))"
   ]
  },
  {
   "cell_type": "code",
   "execution_count": 20,
   "metadata": {
    "ExecuteTime": {
     "end_time": "2020-07-29T13:04:05.358888Z",
     "start_time": "2020-07-29T13:04:05.195851Z"
    }
   },
   "outputs": [
    {
     "data": {
      "image/png": "[encoded data removed]",
      "text/plain": [
       "<Figure size 720x720 with 1 Axes>"
      ]
     },
     "metadata": {},
     "output_type": "display_data"
    }
   ],
   "source": [
    "# confusion matrix from scikitplot\n",
    "ax1=skplt.metrics.plot_confusion_matrix(y_val_combined, y_pred, labels=[1,0], figsize=(10,10), text_fontsize=20)\n",
    "ax1.set_yticklabels([\"Modified\",\"Unmodified\"])\n",
    "ax1.set_xticklabels([\"Modified\",\"Unmodified\"])\n",
    "ax1.images[-1].colorbar.remove()"
   ]
  },
  {
   "cell_type": "code",
   "execution_count": 21,
   "metadata": {
    "ExecuteTime": {
     "end_time": "2020-07-29T13:04:05.365890Z",
     "start_time": "2020-07-29T13:04:05.359888Z"
    }
   },
   "outputs": [
    {
     "data": {
      "text/plain": [
       "0.0"
      ]
     },
     "execution_count": 21,
     "metadata": {},
     "output_type": "execute_result"
    }
   ],
   "source": [
    "# compute f1 score for modifie positions\n",
    "f1_score(y_val_combined,y_pred)"
   ]
  },
  {
   "cell_type": "markdown",
   "metadata": {},
   "source": [
    "### Modelling with the Dataset"
   ]
  },
  {
   "cell_type": "markdown",
   "metadata": {},
   "source": [
    "#### Model Selector Class"
   ]
  },
  {
   "cell_type": "code",
   "execution_count": 22,
   "metadata": {
    "ExecuteTime": {
     "end_time": "2020-07-29T13:04:05.384894Z",
     "start_time": "2020-07-29T13:04:05.366889Z"
    },
    "code_folding": []
   },
   "outputs": [],
   "source": [
    "class ModelSelector():\n",
    "\n",
    "    # initialize model selector class\n",
    "    # scoring and models are prewritten, to add models and scoring functions manually add them in the same pattern\n",
    "    # or uncomment already present ones\n",
    "    \n",
    "    def __init__(self, preprocessor=None,cv = 5, instance_name=None):\n",
    "        self.results = []\n",
    "        self.name = []\n",
    "        self.cv = cv\n",
    "        self.labels = []\n",
    "        self.scoring = {\n",
    "                        #'precision':'precision',\n",
    "                        #'recall': 'recall',\n",
    "                        'f1score':'f1',\n",
    "                        #'roc auc':'roc_auc'\n",
    "                        }\n",
    "        self.models = [\n",
    "                        ('LR', LogisticRegression(random_state=seed, max_iter = 1000, n_jobs=-1)),\n",
    "                        #('KNN', KNeighborsClassifier(n_jobs = -1)),\n",
    "                        #('RF', RandomForestClassifier(random_state=seed, n_jobs = -1)),\n",
    "                        #('ADAB', AdaBoostClassifier(random_state=seed)),\n",
    "                        ('XGB',  XGBClassifier(random_state=seed, n_jobs = -1)),\n",
    "                        #('SVC', SVC(random_state=seed)),\n",
    "                        ('GNB', GaussianNB()),\n",
    "                        #('MLP', MLPClassifier(random_state=seed)),\n",
    "                        ]\n",
    "        self.instance_name = instance_name\n",
    "        self.tests = [\"test_\"+elm for elm in self.scoring.keys()]\n",
    "        self.best_results= []\n",
    "\n",
    "    # fit each model and do cv and record cvs and names\n",
    "    def select_model(self, X, y):\n",
    "        for name, model in self.models:\n",
    "            cv_results = cross_validate(model, X, y, cv=self.cv, scoring=self.scoring, n_jobs=-1, return_train_score=True)\n",
    "            self.results.append(cv_results)\n",
    "            self.name.append(name)\n",
    "    # plot the test scores for each test and each model\n",
    "    def plot_selection(self):\n",
    "       \n",
    "        plt.figure(figsize = (15,8))\n",
    "        plt.suptitle('Algorithm Comparison for ' + self.instance_name)\n",
    "        for idx, test in enumerate(self.tests):\n",
    "            temp_results = [self.results[i][test] for i in range(len(self.results))]\n",
    "            plt.subplot(1,len(self.tests),idx+1)\n",
    "            sns.boxplot(y = temp_results, x = self.name)\n",
    "            plt.title(test)\n",
    "            plt.xticks(rotation = 90)\n",
    "            plt.ylim(0,1.05)\n",
    "        plt.tight_layout()\n",
    "        plt.subplots_adjust(top=0.85)\n",
    "        \n",
    "    # get test scores for top 3 tests for each measure and return them as a dataframe\n",
    "    def get_scores(self, top = 3):\n",
    "        self.best_results = []\n",
    "        for idx, test in enumerate(self.tests):\n",
    "            temp_results = [np.mean(self.results[i][test]) for i in range(len(self.results))]\n",
    "            test_name = [test for i in range(len(self.name))]\n",
    "            instance_name = [self.instance_name for i in range (len(self.name))]\n",
    "            temp_best = sorted(zip(temp_results,self.name,test_name, instance_name), reverse = True)[:top]\n",
    "            self.best_results.append(temp_best)\n",
    "\n",
    "        test= pd.DataFrame()\n",
    "        for i in range(np.array(self.best_results).shape[0]):\n",
    "            test= pd.concat([test, pd.DataFrame(np.array(self.best_results)[i])], axis=0)\n",
    "        test.columns = [\"test_result\",\"model\",\"test\", \"instance_name\"]\n",
    "        test.test_result = test.test_result.astype(float)\n",
    "        test.set_index([\"instance_name\",\"test\",\"model\"], inplace = True)\n",
    "        return(test)\n"
   ]
  },
  {
   "cell_type": "markdown",
   "metadata": {},
   "source": [
    "#### Model Selection"
   ]
  },
  {
   "cell_type": "code",
   "execution_count": 23,
   "metadata": {
    "ExecuteTime": {
     "end_time": "2020-07-29T13:04:05.389896Z",
     "start_time": "2020-07-29T13:04:05.387895Z"
    }
   },
   "outputs": [],
   "source": [
    "# first model selection on whole dataset using model selector class (found in utilities.py)\n",
    "sel_c = ModelSelector(instance_name = \"Combined Dataframe\", cv = cv)"
   ]
  },
  {
   "cell_type": "code",
   "execution_count": 24,
   "metadata": {
    "ExecuteTime": {
     "end_time": "2020-07-29T13:04:09.186753Z",
     "start_time": "2020-07-29T13:04:05.390895Z"
    }
   },
   "outputs": [],
   "source": [
    "# cross validate each model and score the for each scoring function\n",
    "sel_c.select_model(X_finaltest_combined, y_finaltest_combined)"
   ]
  },
  {
   "cell_type": "code",
   "execution_count": 25,
   "metadata": {
    "ExecuteTime": {
     "end_time": "2020-07-29T13:04:09.383799Z",
     "start_time": "2020-07-29T13:04:09.188754Z"
    }
   },
   "outputs": [
    {
     "data": {
      "image/png": "[encoded data removed]",
      "text/plain": [
       "<Figure size 1080x576 with 1 Axes>"
      ]
     },
     "metadata": {},
     "output_type": "display_data"
    }
   ],
   "source": [
    "# plot boxplots for all scores containing all models\n",
    "\n",
    "sel_c.plot_selection()"
   ]
  },
  {
   "cell_type": "code",
   "execution_count": 26,
   "metadata": {
    "ExecuteTime": {
     "end_time": "2020-07-29T13:04:09.396801Z",
     "start_time": "2020-07-29T13:04:09.384798Z"
    }
   },
   "outputs": [
    {
     "data": {
      "text/html": [
       "<div>\n",
       "<style scoped>\n",
       "    .dataframe tbody tr th:only-of-type {\n",
       "        vertical-align: middle;\n",
       "    }\n",
       "\n",
       "    .dataframe tbody tr th {\n",
       "        vertical-align: top;\n",
       "    }\n",
       "\n",
       "    .dataframe thead th {\n",
       "        text-align: right;\n",
       "    }\n",
       "</style>\n",
       "<table border=\"1\" class=\"dataframe\">\n",
       "  <thead>\n",
       "    <tr style=\"text-align: right;\">\n",
       "      <th></th>\n",
       "      <th></th>\n",
       "      <th></th>\n",
       "      <th>test_result</th>\n",
       "    </tr>\n",
       "    <tr>\n",
       "      <th>instance_name</th>\n",
       "      <th>test</th>\n",
       "      <th>model</th>\n",
       "      <th></th>\n",
       "    </tr>\n",
       "  </thead>\n",
       "  <tbody>\n",
       "    <tr>\n",
       "      <th rowspan=\"3\" valign=\"top\">Combined Dataframe</th>\n",
       "      <th rowspan=\"3\" valign=\"top\">test_f1score</th>\n",
       "      <th>XGB</th>\n",
       "      <td>0.961364</td>\n",
       "    </tr>\n",
       "    <tr>\n",
       "      <th>GNB</th>\n",
       "      <td>0.665713</td>\n",
       "    </tr>\n",
       "    <tr>\n",
       "      <th>LR</th>\n",
       "      <td>0.162145</td>\n",
       "    </tr>\n",
       "  </tbody>\n",
       "</table>\n",
       "</div>"
      ],
      "text/plain": [
       "                                       test_result\n",
       "instance_name      test         model             \n",
       "Combined Dataframe test_f1score XGB       0.961364\n",
       "                                GNB       0.665713\n",
       "                                LR        0.162145"
      ]
     },
     "execution_count": 26,
     "metadata": {},
     "output_type": "execute_result"
    }
   ],
   "source": [
    "# output top 3 model scores for each scoring function\n",
    "sel_c.get_scores()"
   ]
  },
  {
   "cell_type": "markdown",
   "metadata": {},
   "source": [
    "#### Evaluation"
   ]
  },
  {
   "cell_type": "code",
   "execution_count": 27,
   "metadata": {
    "ExecuteTime": {
     "end_time": "2020-07-29T13:04:09.401803Z",
     "start_time": "2020-07-29T13:04:09.398802Z"
    }
   },
   "outputs": [],
   "source": [
    "# intialize xgboost classifier with pre optimized hyperparameters\n",
    "xgb = XGBClassifier(n_jobs=4,random_state=seed, gamma= 0, learning_rate = 0.3,\n",
    "                        max_depth= 5, n_estimators = 150)"
   ]
  },
  {
   "cell_type": "code",
   "execution_count": 28,
   "metadata": {
    "ExecuteTime": {
     "end_time": "2020-07-29T13:04:09.493824Z",
     "start_time": "2020-07-29T13:04:09.403803Z"
    }
   },
   "outputs": [],
   "source": [
    "# fit xgboost classifier to test data and predict from validation data\n",
    "xgb.fit(X_finaltest_combined, y_finaltest_combined)\n",
    "y_pred = xgb.predict(X_val_combined)"
   ]
  },
  {
   "cell_type": "code",
   "execution_count": 29,
   "metadata": {
    "ExecuteTime": {
     "end_time": "2020-07-29T13:04:09.638856Z",
     "start_time": "2020-07-29T13:04:09.494824Z"
    }
   },
   "outputs": [
    {
     "data": {
      "image/png": "[encoded data removed]",
      "text/plain": [
       "<Figure size 720x720 with 1 Axes>"
      ]
     },
     "metadata": {},
     "output_type": "display_data"
    }
   ],
   "source": [
    "# evaluate model using scikiplots confusion matrix\n",
    "\n",
    "ax1=skplt.metrics.plot_confusion_matrix(y_val_combined, y_pred, labels=[1,0], figsize=(10,10), text_fontsize=20)\n",
    "ax1.set_yticklabels([\"Modified\",\"Unmodified\"])\n",
    "ax1.set_xticklabels([\"Modified\",\"Unmodified\"])\n",
    "ax1.images[-1].colorbar.remove()"
   ]
  },
  {
   "cell_type": "code",
   "execution_count": 30,
   "metadata": {
    "ExecuteTime": {
     "end_time": "2020-07-29T13:04:09.645858Z",
     "start_time": "2020-07-29T13:04:09.639855Z"
    }
   },
   "outputs": [
    {
     "data": {
      "text/plain": [
       "0.962962962962963"
      ]
     },
     "execution_count": 30,
     "metadata": {},
     "output_type": "execute_result"
    }
   ],
   "source": [
    "# compute f1 score for test\n",
    "\n",
    "f1_score(y_val_combined,y_pred)"
   ]
  },
  {
   "cell_type": "markdown",
   "metadata": {},
   "source": [
    "#### feature importances"
   ]
  },
  {
   "cell_type": "code",
   "execution_count": 31,
   "metadata": {
    "ExecuteTime": {
     "end_time": "2020-07-29T13:04:09.856905Z",
     "start_time": "2020-07-29T13:04:09.646857Z"
    }
   },
   "outputs": [
    {
     "data": {
      "image/png": "[encoded data removed]",
      "text/plain": [
       "<Figure size 842.4x595.44 with 1 Axes>"
      ]
     },
     "metadata": {},
     "output_type": "display_data"
    }
   ],
   "source": [
    "# plot feature importances and label them according to the numeric features used using scikitplot\n",
    "\n",
    "skplt.estimators.plot_feature_importances(xgb, feature_names=numeric_features_combined,max_num_features=10)\n",
    "plt.xticks(rotation=90);"
   ]
  }
 ],
 "metadata": {
  "kernelspec": {
   "display_name": "Python 3",
   "language": "python",
   "name": "python3"
  },
  "language_info": {
   "codemirror_mode": {
    "name": "ipython",
    "version": 3
   },
   "file_extension": ".py",
   "mimetype": "text/x-python",
   "name": "python",
   "nbconvert_exporter": "python",
   "pygments_lexer": "ipython3",
   "version": "3.7.7"
  },
  "toc": {
   "base_numbering": 1,
   "nav_menu": {},
   "number_sections": true,
   "sideBar": true,
   "skip_h1_title": false,
   "title_cell": "Table of Contents",
   "title_sidebar": "Contents",
   "toc_cell": false,
   "toc_position": {
    "height": "calc(100% - 180px)",
    "left": "10px",
    "top": "150px",
    "width": "384px"
   },
   "toc_section_display": true,
   "toc_window_display": true
  }
 },
 "nbformat": 4,
 "nbformat_minor": 4
}
